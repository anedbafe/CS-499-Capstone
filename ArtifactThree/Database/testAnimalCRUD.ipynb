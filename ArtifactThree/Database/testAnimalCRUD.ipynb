{
 "cells": [
  {
   "cell_type": "code",
   "execution_count": 1,
   "id": "ac6d433d",
   "metadata": {},
   "outputs": [
    {
     "name": "stdout",
     "output_type": "stream",
     "text": [
      "MongoDB connection Established...\n"
     ]
    }
   ],
   "source": [
    "# TESTING DB CONNECTION\n",
    "from animalsCRUD import AnimalShelter\n",
    "document = AnimalShelter(\"aacuser\", \"aacpass\")"
   ]
  },
  {
   "cell_type": "code",
   "execution_count": 3,
   "id": "ff87e986",
   "metadata": {},
   "outputs": [
    {
     "data": {
      "text/plain": [
       "True"
      ]
     },
     "execution_count": 3,
     "metadata": {},
     "output_type": "execute_result"
    }
   ],
   "source": [
    "# CREATE A NEW DOCUMENT\n",
    "document.create ({\n",
    "    'age_upon_outcome': '5 months',\n",
    "    'animal_id': 'Local Test',\n",
    "    'animal_type': 'Dog',\n",
    "    'breed': 'Chihuahua Shorthair Mix',\n",
    "    'color': 'Tan/White',\n",
    "    'date_of_birth': '2024-09-15',\n",
    "    'datetime': '2025-02-15 11:58:00',\n",
    "    'monthyear': '2025-02-15 11:58:00',\n",
    "    'name': 'Blacky',\n",
    "    'outcome_subtype': 'None',\n",
    "    'outcome_type': 'Return to Owner',\n",
    "    'sex_upon_outcome': 'Neutered Male',\n",
    "    'location_lat': 30.277168944418,\n",
    "    'location_long': -97.7122755507492,\n",
    "    'age_upon_outcome_in_weeks': 15\n",
    "  })"
   ]
  },
  {
   "cell_type": "code",
   "execution_count": null,
   "id": "17071271",
   "metadata": {},
   "outputs": [],
   "source": [
    "# INVALID DOCUMENT CREATION\n",
    "print(document.create ({0:0}))"
   ]
  },
  {
   "cell_type": "code",
   "execution_count": 4,
   "id": "6beac341",
   "metadata": {},
   "outputs": [
    {
     "name": "stdout",
     "output_type": "stream",
     "text": [
      "{'age_upon_outcome': '5 months', 'animal_id': 'CRUD Test', 'animal_type': 'Dog', 'breed': 'Chihuahua Shorthair Mix', 'color': 'Tan/White', 'date_of_birth': '2024-09-15', 'datetime': '2025-02-15 11:58:00', 'monthyear': '2025-02-15 11:58:00', 'name': 'Blacky', 'outcome_subtype': 'None', 'outcome_type': 'Return to Owner', 'sex_upon_outcome': 'Neutered Male', 'location_lat': 30.277168944418, 'location_long': -97.7122755507492, 'age_upon_outcome_in_weeks': 15}\n",
      "[{'age_upon_outcome': '5 months', 'animal_id': 'CRUD Test', 'animal_type': 'Dog', 'breed': 'Chihuahua Shorthair Mix', 'color': 'Tan/White', 'date_of_birth': '2024-09-15', 'datetime': '2025-02-15 11:58:00', 'monthyear': '2025-02-15 11:58:00', 'name': 'Blacky', 'outcome_subtype': 'None', 'outcome_type': 'Return to Owner', 'sex_upon_outcome': 'Neutered Male', 'location_lat': 30.277168944418, 'location_long': -97.7122755507492, 'age_upon_outcome_in_weeks': 15}]\n"
     ]
    }
   ],
   "source": [
    "# READ DOCUMENT CREATED\n",
    "documentRead = document.read({ 'animal_id': 'CRUD Test'})\n",
    "print(documentRead)"
   ]
  },
  {
   "cell_type": "code",
   "execution_count": null,
   "id": "0277d40e",
   "metadata": {},
   "outputs": [],
   "source": [
    "#INVALID DOCUMENT QUERY\n",
    "document.read ({0:0})"
   ]
  },
  {
   "cell_type": "code",
   "execution_count": null,
   "id": "c17a8ac9",
   "metadata": {},
   "outputs": [],
   "source": [
    "# DOCUMENT UPDATE\n",
    "documentUpdate = document.update({'animal_id': 'CRUD Test'}, {'outcome_type': 'Adoption process'} )\n",
    "print(documentUpdate)"
   ]
  },
  {
   "cell_type": "code",
   "execution_count": null,
   "id": "d2b7d713",
   "metadata": {},
   "outputs": [],
   "source": [
    "# READ DOCUMENT AFTER UPDATED\n",
    "print(document.read({ 'animal_id': 'CRUD Test'}))"
   ]
  },
  {
   "cell_type": "code",
   "execution_count": null,
   "id": "210eae55",
   "metadata": {},
   "outputs": [],
   "source": [
    "# INVALID DOCUMENT UPDATE\n",
    "animalUpdate = animals.update({0:0})"
   ]
  },
  {
   "cell_type": "code",
   "execution_count": null,
   "id": "a439006a",
   "metadata": {},
   "outputs": [],
   "source": [
    "# DELETE DOCUMENT AFTER UPDATED\n",
    "documentDelete = document.delete({'animal_id': 'CRUD Test'})\n",
    "print(documentDelete)"
   ]
  },
  {
   "cell_type": "code",
   "execution_count": null,
   "id": "b5b6707c",
   "metadata": {
    "scrolled": true
   },
   "outputs": [],
   "source": [
    "# READ DOCUMENTS AFTER DELETE\n",
    "documentRead = document.read({ 'animal_id': 'CRUD Test'})\n",
    "print(documentRead)"
   ]
  },
  {
   "cell_type": "code",
   "execution_count": null,
   "id": "21a1c474",
   "metadata": {},
   "outputs": [],
   "source": [
    "# INVALID \n",
    "animalDelete = animals.delete({ 0: 0})"
   ]
  },
  {
   "cell_type": "code",
   "execution_count": null,
   "id": "c3a817d0",
   "metadata": {},
   "outputs": [],
   "source": []
  }
 ],
 "metadata": {
  "kernelspec": {
   "display_name": "Python 3 (ipykernel)",
   "language": "python",
   "name": "python3"
  },
  "language_info": {
   "codemirror_mode": {
    "name": "ipython",
    "version": 3
   },
   "file_extension": ".py",
   "mimetype": "text/x-python",
   "name": "python",
   "nbconvert_exporter": "python",
   "pygments_lexer": "ipython3",
   "version": "3.9.13"
  }
 },
 "nbformat": 4,
 "nbformat_minor": 5
}
